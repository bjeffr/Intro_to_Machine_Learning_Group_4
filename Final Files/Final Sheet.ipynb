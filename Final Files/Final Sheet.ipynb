{
 "cells": [
  {
   "cell_type": "markdown",
   "metadata": {},
   "source": [
    "# Introduction"
   ]
  },
  {
   "cell_type": "markdown",
   "metadata": {},
   "source": [
    "# Data Preparation\n",
    "\n",
    "The primary source of data used in this project, was downloaded from the Wharton database in two seperate Csv-files. The first contains data on the stockmarket and the second on various ratios of the companies. These two datasets were merged using Excel before loading it into the Python environment. This was done because they didn't have exactly the same number of rows and consequently the dates didn't match up. By deleting some duplicate lines we got everything lined up correctly."
   ]
  },
  {
   "cell_type": "code",
   "execution_count": 1,
   "metadata": {},
   "outputs": [],
   "source": [
    "import pandas as pd\n",
    "import numpy as np\n",
    "\n",
    "\n",
    "# Load the csv file of the combined ratios and stocks data and store it as a dataframe.\n",
    "df = pd.read_csv('df.csv', delimiter=';')"
   ]
  },
  {
   "cell_type": "markdown",
   "metadata": {},
   "source": [
    "#### Handling NaN values"
   ]
  },
  {
   "cell_type": "code",
   "execution_count": 2,
   "metadata": {},
   "outputs": [],
   "source": [
    "# adate, public_date and qdate are redundant for our uses after closer inspection therefore we drop those columns.\n",
    "# curr_ratio and inv_turn simply have to many missing values with whole companies not having any data,\n",
    "# that keeping the features can't be justified.\n",
    "# HSICMG has only values for JPM, NKE and CSCO and thus makes no sense to include.\n",
    "# FACPR and FACSHR have only two rows with a value that is not 0 and seem hardly significant.\n",
    "# date and permno.1 are duplicate features due to the merging of two data sets and are redundant.\n",
    "# SICCD was supposed to indicate the industry in which the companies operate, however each company has a unique\n",
    "# SICCD with some even having more than one. The most this would have achieved therefore is duplicating the permno\n",
    "# data. We added our own categorization for industry through excel instead.\n",
    "df = df.drop(columns=['adate', 'public_date', 'qdate', 'curr_ratio', 'inv_turn', 'HSICMG',\n",
    "                          'FACPR', 'FACSHR', 'SPREAD', 'TICKER', 'date', 'permno.1', 'SICCD'])\n",
    "    \n",
    "# dpr is missing for a small number of the first Visa values, we think a backwards fill is therefore adequate\n",
    "df['dpr'] = df['dpr'].bfill()\n",
    "\n",
    "# roe is missing for 3 quarters, upon inspection a backwards fill should be adequate\n",
    "df['roe'] = df['roe'].bfill()\n",
    "\n",
    "# pe_op_basic and pe_exi are missing for a entry, a backwards fill seems adequate\n",
    "df['pe_op_basic'] = df['pe_op_basic'].bfill()\n",
    "df['pe_exi'] = df['pe_exi'].bfill()\n",
    "\n",
    "# capital ratio is missing for the first few entries of MSF, next entries are 0 so just bfill\n",
    "df['capital_ratio'] = df['capital_ratio'].bfill()\n",
    "\n",
    "# All NaN of cash_debt are in Goldman Sachs, fill with median (is very near of the value prior to the NaN's\n",
    "# and fits into the pattern)\n",
    "df['cash_debt'].fillna((df['capital_ratio'].mean()), inplace=True)\n",
    "\n",
    "# lt_ppent no data for Travelers companies found on wharton.\n",
    "# Only source found on https://www.marketwatch.com/investing/stock/trv/profile but no time series\n",
    "# therefore just fill 1 so our algorithm won't be too strongly influenced\n",
    "df['lt_ppent'].fillna(1, inplace=True)\n",
    "\n",
    "# dltt_be bfill, fits into pattern very nicely\n",
    "df['dltt_be'] = df['dltt_be'].bfill()\n",
    "\n",
    "# For ptb there are a small number of values missing, all for the same company. As this ratio fluctuates\n",
    "# quite a bit, we feel filling with the average of the company is the best option.\n",
    "df['ptb'].fillna(df.ptb.loc[df['PERMNO'] == 19561].mean(), inplace=True)\n",
    "\n",
    "# PEG_1yrforward and PEG_ltgforward have a number of missing values with no pattern throughout the data set.\n",
    "# Filling with the mean of the feature therefore seems adequate\n",
    "df['PEG_1yrforward'] = df['PEG_1yrforward'].fillna((df['PEG_1yrforward'].mean()))\n",
    "df['PEG_ltgforward'] = df['PEG_ltgforward'].fillna((df['PEG_ltgforward'].mean()))\n",
    "\n",
    "# Forward fill for DIVAMT because $-Value per share of distribution has not only a monthly impact but is\n",
    "# rather a constant indicator, and at the end bfill the first row that was still empty\n",
    "df['DIVAMT'] = df['DIVAMT'].ffill()\n",
    "df['DIVAMT'] = df['DIVAMT'].bfill()\n",
    "\n",
    "# One datapoint was type string, short fix:\n",
    "df['RETX'] = pd.to_numeric(df['RETX'], errors='coerce')\n",
    "df['RETX'] = df['RETX'].bfill()"
   ]
  },
  {
   "cell_type": "markdown",
   "metadata": {},
   "source": [
    "#### Creating Dummy Variables for Categorical Data"
   ]
  },
  {
   "cell_type": "code",
   "execution_count": 3,
   "metadata": {},
   "outputs": [],
   "source": [
    "# We have a few variables indicating a specific date, like a dividend payout date.\n",
    "# We convert these to dummy variables to get rid of the massive amount of resulting NaN values.\n",
    "# First fill all NaN values in the date columns with 0:\n",
    "df['DCLRDT'] = df['DCLRDT'].fillna(0)\n",
    "df['PAYDT'] = df['PAYDT'].fillna(0)\n",
    "\n",
    "# Next step is to fill the existing values in the date columns with a 1, therefore making it a binary variable\n",
    "# the dates are mostly somewhere in the middle of the month and because we utilize monthly data we just\n",
    "# indicate if for example a dividend was payed in that month.\n",
    "for i, row in df.iterrows():\n",
    "    if row['PAYDT'] != 0:\n",
    "        df.at[i, 'PAYDT'] = 1\n",
    "    if row['DCLRDT'] != 0:\n",
    "        df.at[i, 'DCLRDT'] = 1\n",
    "\n",
    "df['PAYDT'] = pd.to_numeric(df['PAYDT'], errors='coerce')\n",
    "df['DCLRDT'] = pd.to_numeric(df['DCLRDT'], errors='coerce')\n",
    "\n",
    "# So the algorithms can differentiate the different companies, we have to convert\n",
    "# the PERMNO codes and our industry classification to dummy variables.\n",
    "df['PERMNO'] = df['PERMNO'].astype(str)\n",
    "df['Industry'] = df['Industry'].astype(str)\n",
    "df = pd.get_dummies(df)"
   ]
  },
  {
   "cell_type": "markdown",
   "metadata": {},
   "source": [
    "#### Deleting rows with too many NaN values"
   ]
  },
  {
   "cell_type": "code",
   "execution_count": 4,
   "metadata": {},
   "outputs": [],
   "source": [
    "# there are a few rows left with lots of values missing, so we delete all rows with 6 or more values missing  \n",
    "faulty_rows = []\n",
    "for row in df.iterrows():\n",
    "    if row[1].isnull().sum() >= 6:\n",
    "        faulty_rows.append(df.index[int(row[0])])\n",
    "df = df.drop(faulty_rows)"
   ]
  },
  {
   "cell_type": "markdown",
   "metadata": {},
   "source": [
    "#### Creating data matrix and response vector"
   ]
  },
  {
   "cell_type": "code",
   "execution_count": 5,
   "metadata": {},
   "outputs": [
    {
     "name": "stderr",
     "output_type": "stream",
     "text": [
      "C:\\Anaconda\\lib\\site-packages\\ipykernel_launcher.py:8: FutureWarning: elementwise comparison failed; returning scalar instead, but in the future will perform elementwise comparison\n",
      "  \n"
     ]
    }
   ],
   "source": [
    "# create the response vector y (up or down movement)\n",
    "today = np.log(df['PRC'] / df['PRC'].shift(-1))\n",
    "direction = np.where(today >= 0, 1, 0)\n",
    "y = direction\n",
    "\n",
    "# create the data matrix X\n",
    "data_final_vars = df.columns.values.tolist()\n",
    "X = [i for i in data_final_vars if i not in y]\n",
    "X = df[X]"
   ]
  },
  {
   "cell_type": "markdown",
   "metadata": {},
   "source": [
    "# Logistic Regression"
   ]
  },
  {
   "cell_type": "code",
   "execution_count": 6,
   "metadata": {},
   "outputs": [
    {
     "name": "stderr",
     "output_type": "stream",
     "text": [
      "C:\\Anaconda\\lib\\site-packages\\statsmodels\\compat\\pandas.py:56: FutureWarning: The pandas.core.datetools module is deprecated and will be removed in a future version. Please use the pandas.tseries module instead.\n",
      "  from pandas.core import datetools\n"
     ]
    },
    {
     "name": "stdout",
     "output_type": "stream",
     "text": [
      "Warning: Maximum number of iterations has been exceeded.\n",
      "         Current function value: 0.666608\n",
      "         Iterations: 35\n",
      "                                  Results: Logit\n",
      "===================================================================================\n",
      "Model:                     Logit                  No. Iterations:         35.0000  \n",
      "Dependent Variable:        y                      Pseudo R-squared:       0.029    \n",
      "Date:                      2018-04-14 16:40       AIC:                    4838.9123\n",
      "No. Observations:          3568                   BIC:                    5092.2825\n",
      "Df Model:                  40                     Log-Likelihood:         -2378.5  \n",
      "Df Residuals:              3527                   LL-Null:                -2449.5  \n",
      "Converged:                 0.0000                 Scale:                  1.0000   \n",
      "-----------------------------------------------------------------------------------\n",
      "                         Coef.    Std.Err.     z    P>|z|     [0.025       0.975]  \n",
      "-----------------------------------------------------------------------------------\n",
      "DCLRDT                   13.2244 65363.4037  0.0002 0.9998 -128096.6928 128123.1417\n",
      "PAYDT                   -13.1797 65363.4037 -0.0002 0.9998 -128123.0970 128096.7375\n",
      "DIVAMT                   -0.1781     0.1998 -0.8914 0.3727      -0.5696      0.2135\n",
      "BIDLO                    -0.0106     0.0098 -1.0803 0.2800      -0.0298      0.0086\n",
      "ASKHI                    -0.0021     0.0036 -0.5792 0.5624      -0.0092      0.0050\n",
      "PRC                       0.0129     0.0092  1.3943 0.1632      -0.0052      0.0310\n",
      "pe_op_basic               0.0033     0.0035  0.9450 0.3447      -0.0036      0.0102\n",
      "pe_exi                    0.0014     0.0025  0.5523 0.5808      -0.0035      0.0062\n",
      "dpr                      -0.1027     0.0975 -1.0536 0.2921      -0.2939      0.0884\n",
      "npm                      -2.1857     2.5956 -0.8421 0.3997      -7.2729      2.9015\n",
      "gpm                      -0.3121     0.3608 -0.8651 0.3870      -1.0193      0.3950\n",
      "ptpm                      0.8656     1.7781  0.4868 0.6264      -2.6194      4.3506\n",
      "roa                      -0.4023     1.2752 -0.3154 0.7524      -2.9016      2.0971\n",
      "roe                       0.9186     0.4596  1.9985 0.0457       0.0177      1.8194\n",
      "capital_ratio             0.3770     0.4602  0.8193 0.4126      -0.5249      1.2790\n",
      "cash_debt                -0.2844     0.4200 -0.6771 0.4984      -1.1075      0.5388\n",
      "lt_ppent                  0.0019     0.0019  0.9852 0.3245      -0.0018      0.0055\n",
      "dltt_be                  -0.0304     0.0469 -0.6484 0.5168      -0.1224      0.0616\n",
      "debt_assets              -1.1826     0.7150 -1.6540 0.0981      -2.5840      0.2188\n",
      "at_turn                  -0.3149     0.2149 -1.4654 0.1428      -0.7362      0.1063\n",
      "rect_turn                 0.0035     0.0034  1.0488 0.2943      -0.0031      0.0101\n",
      "pay_turn                 -0.0219     0.0117 -1.8833 0.0597      -0.0448      0.0009\n",
      "ptb                      -0.0019     0.0219 -0.0856 0.9318      -0.0448      0.0411\n",
      "PEG_1yrforward           -0.0063     0.0059 -1.0719 0.2838      -0.0179      0.0052\n",
      "PEG_ltgforward           -0.0106     0.0125 -0.8472 0.3969      -0.0352      0.0140\n",
      "UNRATE                    0.1359     0.0478  2.8413 0.0045       0.0422      0.2297\n",
      "EXUSEU                    0.8812     0.5166  1.7056 0.0881      -0.1314      1.8938\n",
      "Standard Deviation        0.0148     0.0035  4.2134 0.0000       0.0079      0.0216\n",
      "NAAIM Number              0.0097     0.0021  4.7003 0.0000       0.0056      0.0137\n",
      "GOLD                     -0.0014     0.0004 -3.9884 0.0001      -0.0022     -0.0007\n",
      "Manufactory_Index         0.0269     0.0065  4.1593 0.0000       0.0142      0.0396\n",
      "US_Coin_Level             0.0062     0.0339  0.1829 0.8549      -0.0603      0.0727\n",
      "US_Coin _Growth          -0.0941     0.0282 -3.3317 0.0009      -0.1494     -0.0387\n",
      "US_Lag_Level              0.0193     0.0136  1.4234 0.1546      -0.0073      0.0460\n",
      "US_Lag_Growth             0.0981     0.0198  4.9533 0.0000       0.0593      0.1369\n",
      "US_Lead_Level            -0.0421     0.0255 -1.6482 0.0993      -0.0921      0.0080\n",
      "US_Lead_Growth            0.0159     0.0144  1.0977 0.2723      -0.0125      0.0442\n",
      "PERMNO_26403             -0.6309     0.2752 -2.2928 0.0219      -1.1703     -0.0916\n",
      "Industry_Consumer_Goods  -0.0357     0.1182 -0.3020 0.7627      -0.2674      0.1960\n",
      "Industry_Finance         -0.3106     0.1663 -1.8681 0.0617      -0.6365      0.0153\n",
      "Industry_Technology      -0.1017     0.1219 -0.8339 0.4044      -0.3406      0.1373\n",
      "===================================================================================\n",
      "\n"
     ]
    },
    {
     "name": "stderr",
     "output_type": "stream",
     "text": [
      "C:\\Anaconda\\lib\\site-packages\\statsmodels\\base\\model.py:496: ConvergenceWarning: Maximum Likelihood optimization failed to converge. Check mle_retvals\n",
      "  \"Check mle_retvals\", ConvergenceWarning)\n"
     ]
    }
   ],
   "source": [
    "import statsmodels.api as sm\n",
    "from sklearn.feature_selection import RFE\n",
    "from sklearn.linear_model import LogisticRegression\n",
    "from sklearn.model_selection import train_test_split\n",
    "\n",
    "\n",
    "logreg = LogisticRegression()\n",
    "\n",
    "# After lots of experimentation we found the only way to improve our initially rather bad test score was to use\n",
    "# recursive feature elimination to drop some features. Through experimentation the best result was achieved\n",
    "# by keeping 41 features.\n",
    "rfe = RFE(logreg, 41)\n",
    "rfe = rfe.fit(X, y)\n",
    "\n",
    "rel_cols = []\n",
    "for i in range(len(rfe.ranking_)):\n",
    "    if rfe.ranking_[i] == 1:\n",
    "        rel_cols.append(df.columns[i])\n",
    "\n",
    "# Other models however benefit from all the features they can get we therefore do not override our X matrix.\n",
    "XLR = df[rel_cols]\n",
    "\n",
    "# Split data in 80% training data and 20% test data\n",
    "X_train, X_test, y_train, y_test = train_test_split(XLR, y, test_size = 0.2, random_state = 0)\n",
    "\n",
    "# Fit logit model and print the summary\n",
    "logit_model = sm.Logit(y,XLR)\n",
    "result = logit_model.fit()\n",
    "print(result.summary2())"
   ]
  },
  {
   "cell_type": "markdown",
   "metadata": {},
   "source": [
    "#### Performance metrics"
   ]
  },
  {
   "cell_type": "code",
   "execution_count": 7,
   "metadata": {},
   "outputs": [
    {
     "name": "stdout",
     "output_type": "stream",
     "text": [
      "--------------- Performance metrics --------------- \n",
      "\n",
      "True proportion of Up Movement 0.4425\n",
      "Train score: 0.5995\n",
      "Test score: 0.5896\n",
      "\n",
      "--------------- Confusion Matrix --------------- \n",
      "\n",
      "Predicted movement  Down   Up\n",
      "True movement                \n",
      "Down                 310   93\n",
      "Up                   200  111\n"
     ]
    }
   ],
   "source": [
    "# Fit logreg model\n",
    "logreg.fit(X_train, y_train)\n",
    "\n",
    "# Store the trainscore, testscore and prediction for later use\n",
    "LR_trainscore = logreg.score(X_train, y_train)\n",
    "LR_score = logreg.score(X_test, y_test)\n",
    "LR_pred = logreg.predict(X_test)\n",
    "\n",
    "# Define Output function used many times throughout this project\n",
    "# Takes the trainscore, testscore and prediction and prints a summary of the scores and a confusion matrix.\n",
    "def Output(Xtrain, Xtest, ypred):\n",
    "    \n",
    "    # Print performance metrics\n",
    "    print(15*'-', 'Performance metrics', 15*'-', '\\n')\n",
    "    print('True proportion of Up Movement {:.4f}'.format(y.sum()/y.shape[0]))\n",
    "    print('Train score: {:.4f}'.format(Xtrain))\n",
    "    print('Test score: {:.4f}\\n'.format(Xtest))\n",
    "\n",
    "    # Manual confusion matrix as pandas DataFrame\n",
    "    confm = pd.DataFrame({'Predicted movement': ypred, 'True movement': y_test})\n",
    "    confm.replace(to_replace={0: 'Down', 1: 'Up'}, inplace=True)\n",
    "    print(15*'-', 'Confusion Matrix', 15*'-', '\\n')\n",
    "    print(confm.groupby(['True movement', 'Predicted movement']).size().unstack('Predicted movement'))\n",
    "    \n",
    "Output(LR_trainscore, LR_score, LR_pred)"
   ]
  },
  {
   "cell_type": "markdown",
   "metadata": {},
   "source": [
    "#### Cross validation"
   ]
  },
  {
   "cell_type": "code",
   "execution_count": 8,
   "metadata": {},
   "outputs": [
    {
     "name": "stdout",
     "output_type": "stream",
     "text": [
      "10-fold cross validation average accuracy: 0.5813\n"
     ]
    }
   ],
   "source": [
    "from sklearn import model_selection\n",
    "from sklearn.model_selection import cross_val_score\n",
    "\n",
    "# Run a 10-fold cross validation to see if results vary strongly for this train-test split\n",
    "kfold = model_selection.KFold(n_splits=10, random_state=7)\n",
    "\n",
    "LR_cv = model_selection.cross_val_score(logreg, X_train, y_train, cv=kfold, scoring='accuracy')\n",
    "print(\"10-fold cross validation average accuracy: %.4f\" % (LR_cv.mean()))"
   ]
  },
  {
   "cell_type": "markdown",
   "metadata": {},
   "source": [
    "#### ROC Curve"
   ]
  },
  {
   "cell_type": "code",
   "execution_count": 1,
   "metadata": {},
   "outputs": [
    {
     "ename": "NameError",
     "evalue": "name 'logreg' is not defined",
     "output_type": "error",
     "traceback": [
      "\u001b[1;31m---------------------------------------------------------------------------\u001b[0m",
      "\u001b[1;31mNameError\u001b[0m                                 Traceback (most recent call last)",
      "\u001b[1;32m<ipython-input-1-9f1f3afaaa63>\u001b[0m in \u001b[0;36m<module>\u001b[1;34m()\u001b[0m\n\u001b[0;32m     23\u001b[0m \u001b[1;33m\u001b[0m\u001b[0m\n\u001b[0;32m     24\u001b[0m \u001b[1;31m# Store the predicted values for later use\u001b[0m\u001b[1;33m\u001b[0m\u001b[1;33m\u001b[0m\u001b[0m\n\u001b[1;32m---> 25\u001b[1;33m \u001b[0mLR_proba\u001b[0m \u001b[1;33m=\u001b[0m \u001b[0mlogreg\u001b[0m\u001b[1;33m.\u001b[0m\u001b[0mpredict_proba\u001b[0m\u001b[1;33m(\u001b[0m\u001b[0mX_test\u001b[0m\u001b[1;33m)\u001b[0m\u001b[1;33m\u001b[0m\u001b[0m\n\u001b[0m\u001b[0;32m     26\u001b[0m \u001b[1;33m\u001b[0m\u001b[0m\n\u001b[0;32m     27\u001b[0m \u001b[1;31m# Plot ROC curve\u001b[0m\u001b[1;33m\u001b[0m\u001b[1;33m\u001b[0m\u001b[0m\n",
      "\u001b[1;31mNameError\u001b[0m: name 'logreg' is not defined"
     ]
    }
   ],
   "source": [
    "import matplotlib.pyplot as plt\n",
    "from sklearn.metrics import roc_auc_score\n",
    "from sklearn.metrics import roc_curve\n",
    "\n",
    "\n",
    "# Define ROC_Curve function used many times throughout this project\n",
    "# Takes a name, y_test, the prediction, and probability and plots an ROC curve. It also saves this plot\n",
    "# under the specified name.\n",
    "def ROC_Curve(name, ytest, pred, proba):\n",
    "    roc_auc = roc_auc_score(ytest, pred)\n",
    "    fpr, tpr, thresholds = roc_curve(ytest, proba[:,1])\n",
    "    plt.figure()\n",
    "    plt.plot(fpr, tpr, label= name + ' (area = %0.2f)' % roc_auc)\n",
    "    plt.plot([0, 1], [0, 1],'r--')\n",
    "    plt.xlim([0.0, 1.0])\n",
    "    plt.ylim([0.0, 1.05])\n",
    "    plt.xlabel('False Positive Rate')\n",
    "    plt.ylabel('True Positive Rate')\n",
    "    plt.title('ROC Curve: ' + name)\n",
    "    plt.legend(loc=\"lower right\")\n",
    "    plt.savefig(name + ' ROC')\n",
    "    plt.show()\n",
    "\n",
    "# Store the predicted values for later use\n",
    "LR_proba = logreg.predict_proba(X_test)\n",
    "\n",
    "# Plot ROC curve\n",
    "ROC_Curve('Logistic Regression', y_test, LR_pred, LR_proba)"
   ]
  },
  {
   "cell_type": "markdown",
   "metadata": {},
   "source": [
    "# QDA"
   ]
  },
  {
   "cell_type": "code",
   "execution_count": 10,
   "metadata": {},
   "outputs": [
    {
     "name": "stderr",
     "output_type": "stream",
     "text": [
      "C:\\Anaconda\\lib\\site-packages\\sklearn\\discriminant_analysis.py:682: UserWarning: Variables are collinear\n",
      "  warnings.warn(\"Variables are collinear\")\n"
     ]
    },
    {
     "data": {
      "text/plain": [
       "QuadraticDiscriminantAnalysis(priors=None, reg_param=0.0,\n",
       "               store_covariance=False, store_covariances=None, tol=0.0001)"
      ]
     },
     "execution_count": 10,
     "metadata": {},
     "output_type": "execute_result"
    }
   ],
   "source": [
    "from sklearn.discriminant_analysis import QuadraticDiscriminantAnalysis as QDA\n",
    "from sklearn.feature_selection import RFECV\n",
    "\n",
    "\n",
    "# Redefine the train-test split to use all features in the data-frame\n",
    "X_train, X_test, y_train, y_test = train_test_split(X, y, test_size=0.2, random_state=0)\n",
    "\n",
    "# Run QDA on training data\n",
    "qda = QDA()\n",
    "qda = qda.fit(X_train, y_train)\n",
    "qda"
   ]
  },
  {
   "cell_type": "markdown",
   "metadata": {},
   "source": [
    "#### Performance metrics"
   ]
  },
  {
   "cell_type": "code",
   "execution_count": 11,
   "metadata": {},
   "outputs": [
    {
     "name": "stdout",
     "output_type": "stream",
     "text": [
      "             precision    recall  f1-score   support\n",
      "\n",
      "          0       0.57      0.12      0.19       403\n",
      "          1       0.44      0.88      0.58       311\n",
      "\n",
      "avg / total       0.51      0.45      0.36       714\n",
      "\n",
      "--------------- Performance metrics --------------- \n",
      "\n",
      "True proportion of Up Movement 0.4425\n",
      "Train score: 0.4734\n",
      "Test score: 0.4510\n",
      "\n",
      "--------------- Confusion Matrix --------------- \n",
      "\n",
      "Predicted movement  Down   Up\n",
      "True movement                \n",
      "Down                  47  356\n",
      "Up                    36  275\n"
     ]
    }
   ],
   "source": [
    "from sklearn import metrics\n",
    "\n",
    "\n",
    "# Predict classes for qda\n",
    "QDA_pred = qda.predict(X_test)\n",
    "posteriors_qda = qda. predict_proba ( X_test )[: , 1]\n",
    "\n",
    "# Store the trainscore, testscore and prediction for later use\n",
    "QDA_trainscore = qda.score(X_train, y_train)\n",
    "QDA_score = qda.score(X_test, y_test)\n",
    "\n",
    "# Print performance metrics\n",
    "print ( metrics.classification_report (y_test , QDA_pred ))\n",
    "Output(QDA_trainscore, QDA_score, QDA_pred)"
   ]
  },
  {
   "cell_type": "markdown",
   "metadata": {},
   "source": [
    "#### Cross validation"
   ]
  },
  {
   "cell_type": "code",
   "execution_count": 12,
   "metadata": {},
   "outputs": [
    {
     "name": "stderr",
     "output_type": "stream",
     "text": [
      "C:\\Anaconda\\lib\\site-packages\\sklearn\\discriminant_analysis.py:682: UserWarning: Variables are collinear\n",
      "  warnings.warn(\"Variables are collinear\")\n",
      "C:\\Anaconda\\lib\\site-packages\\sklearn\\discriminant_analysis.py:682: UserWarning: Variables are collinear\n",
      "  warnings.warn(\"Variables are collinear\")\n",
      "C:\\Anaconda\\lib\\site-packages\\sklearn\\discriminant_analysis.py:682: UserWarning: Variables are collinear\n",
      "  warnings.warn(\"Variables are collinear\")\n",
      "C:\\Anaconda\\lib\\site-packages\\sklearn\\discriminant_analysis.py:682: UserWarning: Variables are collinear\n",
      "  warnings.warn(\"Variables are collinear\")\n",
      "C:\\Anaconda\\lib\\site-packages\\sklearn\\discriminant_analysis.py:682: UserWarning: Variables are collinear\n",
      "  warnings.warn(\"Variables are collinear\")\n",
      "C:\\Anaconda\\lib\\site-packages\\sklearn\\discriminant_analysis.py:682: UserWarning: Variables are collinear\n",
      "  warnings.warn(\"Variables are collinear\")\n",
      "C:\\Anaconda\\lib\\site-packages\\sklearn\\discriminant_analysis.py:682: UserWarning: Variables are collinear\n",
      "  warnings.warn(\"Variables are collinear\")\n",
      "C:\\Anaconda\\lib\\site-packages\\sklearn\\discriminant_analysis.py:682: UserWarning: Variables are collinear\n",
      "  warnings.warn(\"Variables are collinear\")\n",
      "C:\\Anaconda\\lib\\site-packages\\sklearn\\discriminant_analysis.py:682: UserWarning: Variables are collinear\n",
      "  warnings.warn(\"Variables are collinear\")\n"
     ]
    },
    {
     "name": "stdout",
     "output_type": "stream",
     "text": [
      "10-fold cross validation average accuracy: 0.4678\n"
     ]
    },
    {
     "name": "stderr",
     "output_type": "stream",
     "text": [
      "C:\\Anaconda\\lib\\site-packages\\sklearn\\discriminant_analysis.py:682: UserWarning: Variables are collinear\n",
      "  warnings.warn(\"Variables are collinear\")\n"
     ]
    }
   ],
   "source": [
    "# Redo Cross validation as we redefined the train-test split\n",
    "QDA_cv = model_selection.cross_val_score(qda, X_train, y_train, cv=kfold, scoring='accuracy')\n",
    "print(\"10-fold cross validation average accuracy: %.4f\" % (QDA_cv.mean()))"
   ]
  },
  {
   "cell_type": "markdown",
   "metadata": {},
   "source": [
    "#### ROC Curve"
   ]
  },
  {
   "cell_type": "code",
   "execution_count": 13,
   "metadata": {},
   "outputs": [
    {
     "data": {
      "image/png": "[encoded data removed]",
      "text/plain": [
       "<matplotlib.figure.Figure at 0x225cd8f4e48>"
      ]
     },
     "metadata": {},
     "output_type": "display_data"
    }
   ],
   "source": [
    "# Plot ROC curve\n",
    "QDA_proba = qda.predict_proba(X_test)\n",
    "ROC_Curve('QDA', y_test, QDA_pred, QDA_proba)"
   ]
  },
  {
   "cell_type": "markdown",
   "metadata": {},
   "source": [
    "# Decision Tree"
   ]
  },
  {
   "cell_type": "code",
   "execution_count": 14,
   "metadata": {},
   "outputs": [
    {
     "data": {
      "text/plain": [
       "DecisionTreeClassifier(class_weight=None, criterion='gini', max_depth=8,\n",
       "            max_features=None, max_leaf_nodes=None,\n",
       "            min_impurity_decrease=0.0, min_impurity_split=None,\n",
       "            min_samples_leaf=10, min_samples_split=2,\n",
       "            min_weight_fraction_leaf=0.0, presort=False, random_state=0,\n",
       "            splitter='best')"
      ]
     },
     "execution_count": 14,
     "metadata": {},
     "output_type": "execute_result"
    }
   ],
   "source": [
    "from sklearn.tree import DecisionTreeClassifier\n",
    "from sklearn.model_selection import GridSearchCV, StratifiedKFold\n",
    "from sklearn.preprocessing import StandardScaler\n",
    "\n",
    "\n",
    "# Standardize our train data to see if it improves our model fit\n",
    "sc = StandardScaler()\n",
    "X_train_std = sc.fit_transform(X_train)\n",
    "X_test_std = sc.transform(X_test)\n",
    "\n",
    "def grid_search_DT(X_train, X_test, y_train, y_test, y):\n",
    "    \n",
    "    # Define settings for each parameter for the grid search\n",
    "    maxDepth = np.array([5, 6, 8, 9, 10])\n",
    "    minSamplesNode = np.array([2, 5, 6, 8, 10])\n",
    "    minSamplesLeaf = np.array([2, 5, 6, 8, 10])\n",
    "    \n",
    "    # Define Cross Validation level\n",
    "    kFold = StratifiedKFold(n_splits=10, random_state=5)\n",
    "\n",
    "    # Define the parameters to use in grid search\n",
    "    param_grid = {'criterion': ['gini', 'entropy'],\n",
    "                  'max_depth': maxDepth,\n",
    "                  'min_samples_split': minSamplesNode,\n",
    "                  'min_samples_leaf': minSamplesLeaf}\n",
    "\n",
    "    # Define the model to be used in grid search\n",
    "    gs = GridSearchCV(estimator=DecisionTreeClassifier(random_state=0),\n",
    "                      param_grid=param_grid,\n",
    "                      scoring='accuracy',\n",
    "                      cv=kFold, n_jobs=-1)\n",
    "    \n",
    "    gs = gs.fit(X_train, y_train)\n",
    "\n",
    "    clf = gs.best_estimator_\n",
    "    clf.fit(X_train, y_train)\n",
    "\n",
    "    return clf\n",
    "\n",
    "clf = grid_search_DT(X_train, X_test, y_train, y_test, y)\n",
    "clf_std = grid_search_DT(X_train_std, X_test_std, y_train, y_test, y)\n",
    "\n",
    "clf.fit(X_train, y_train)\n",
    "clf_std.fit(X_train_std, y_train)"
   ]
  },
  {
   "cell_type": "markdown",
   "metadata": {},
   "source": [
    "#### Performance metrics"
   ]
  },
  {
   "cell_type": "code",
   "execution_count": 15,
   "metadata": {},
   "outputs": [
    {
     "name": "stdout",
     "output_type": "stream",
     "text": [
      "--------------- Test Score standardized --------------- \n",
      "\n",
      "Test accuracy:  0.7003\n",
      "\n",
      "\n",
      "--------------- Test Scores without standarization --------------- \n",
      "\n",
      "--------------- Performance metrics --------------- \n",
      "\n",
      "True proportion of Up Movement 0.4425\n",
      "Train score: 0.7642\n",
      "Test score: 0.7003\n",
      "\n",
      "--------------- Confusion Matrix --------------- \n",
      "\n",
      "Predicted movement  Down   Up\n",
      "True movement                \n",
      "Down                 344   59\n",
      "Up                   155  156\n"
     ]
    }
   ],
   "source": [
    "# Store the trainscore, testscore and prediction for later use\n",
    "CLF_trainscore = clf.score(X_train, y_train)\n",
    "CLF_score = clf.score(X_test, y_test)\n",
    "CLF_pred = clf.predict(X_test)\n",
    "\n",
    "# Output the test score to compare with the non-standardized version\n",
    "print(15*'-', 'Test Score standardized', 15*'-', '\\n')\n",
    "print('Test accuracy: {0: .4f}\\n\\n'.format(clf_std.score(X_test_std, y_test)))\n",
    "\n",
    "# Print performance metrics\n",
    "print(15*'-', 'Test Scores without standarization', 15*'-', '\\n')\n",
    "Output(CLF_trainscore, CLF_score, CLF_pred)"
   ]
  },
  {
   "cell_type": "markdown",
   "metadata": {},
   "source": [
    "#### ROC Curve"
   ]
  },
  {
   "cell_type": "code",
   "execution_count": 16,
   "metadata": {},
   "outputs": [
    {
     "data": {
      "image/png": "[encoded data removed]",
      "text/plain": [
       "<matplotlib.figure.Figure at 0x225d2a03d68>"
      ]
     },
     "metadata": {},
     "output_type": "display_data"
    }
   ],
   "source": [
    "# Plot ROC curve\n",
    "CLF_proba = clf.predict_proba(X_test)\n",
    "ROC_Curve('Decision Tree', y_test, CLF_pred, CLF_proba)"
   ]
  },
  {
   "cell_type": "markdown",
   "metadata": {},
   "source": [
    "#### Create the Decision Tree"
   ]
  },
  {
   "cell_type": "code",
   "execution_count": null,
   "metadata": {},
   "outputs": [],
   "source": [
    "import os\n",
    "os.environ[\"PATH\"] += os.pathsep + 'C:/Program Files (x86)/Graphviz2.38/bin/'\n",
    "import graphviz\n",
    "from sklearn.tree import export_graphviz\n",
    "\n",
    "\n",
    "# Create decision tree plot\n",
    "dot_data = export_graphviz(clf, filled=True, rounded=True,\n",
    "                           class_names=['DOWN', 'UP'], feature_names=df.columns.values)"
   ]
  },
  {
   "cell_type": "markdown",
   "metadata": {},
   "source": [
    "# Random Forest"
   ]
  },
  {
   "cell_type": "code",
   "execution_count": null,
   "metadata": {},
   "outputs": [],
   "source": [
    "from sklearn.ensemble import RandomForestClassifier\n",
    "\n",
    "\n",
    "forest = RandomForestClassifier(criterion=clf.criterion, max_depth=clf.max_depth,\n",
    "                                min_samples_leaf=clf.min_samples_leaf, min_samples_split= clf.min_samples_split,\n",
    "                                random_state=0, n_jobs=-1)\n",
    "forest.fit(X_train, y_train)"
   ]
  },
  {
   "cell_type": "markdown",
   "metadata": {},
   "source": [
    "#### Performance metrics\n",
    "This is improved greatly later with Grid Search and was left to show the improvement gained."
   ]
  },
  {
   "cell_type": "code",
   "execution_count": null,
   "metadata": {},
   "outputs": [],
   "source": [
    "print(15*'-', 'Random forest without grid search and no CV', 15*'-', '\\n')\n",
    "\n",
    "# Store the trainscore, testscore and prediction for later use\n",
    "RF_trainscore = forest.score(X_train, y_train)\n",
    "RF_score = forest.score(X_test, y_test)\n",
    "RF_pred = forest.predict(X_test)\n",
    "\n",
    "# Print performance metrics\n",
    "Output(RF_trainscore, RF_score, RF_pred)"
   ]
  },
  {
   "cell_type": "markdown",
   "metadata": {},
   "source": [
    "#### ROC Curve"
   ]
  },
  {
   "cell_type": "code",
   "execution_count": null,
   "metadata": {},
   "outputs": [],
   "source": [
    "# Plot ROC curve\n",
    "RF_proba = forest.predict_proba(X_test)\n",
    "ROC_Curve('Random Forest (without Grid Search)', y_test, RF_pred, RF_proba)"
   ]
  },
  {
   "cell_type": "markdown",
   "metadata": {},
   "source": [
    "#### Applying Grid Search"
   ]
  },
  {
   "cell_type": "code",
   "execution_count": null,
   "metadata": {},
   "outputs": [],
   "source": [
    "from sklearn.model_selection import GridSearchCV, StratifiedKFold\n",
    "from sklearn.preprocessing import StandardScaler\n",
    "\n",
    "\n",
    "def grid_search_RF(X_train, X_test, y_train, y_test, y):    \n",
    "    \n",
    "    # Define settings for each parameter for the grid search\n",
    "    maxDepth = np.array([7, 8, 9])\n",
    "    minSamplesNode = np.array([2, 3])\n",
    "    minSamplesLeaf = np.array([9, 10, 11])\n",
    "    estimators = np.array([10, 11, 12])\n",
    "    maxFeatures = np.array([5, 20, 'log2', None])\n",
    "    verbose = np.array([0, 1])\n",
    "    warmStart = np.array([True, False])\n",
    "    \n",
    "    maxDepth = np.array([8])\n",
    "    minSamplesNode = np.array([2])\n",
    "    minSamplesLeaf = np.array([10])\n",
    "    estimators = np.array([11])\n",
    "    maxFeatures = np.array([20])\n",
    "    verbose = np.array([0])\n",
    "    warmStart = np.array([True])\n",
    "\n",
    "    # Define Cross Validation level\n",
    "    kFold = StratifiedKFold(n_splits=10, random_state=5)\n",
    "\n",
    "    # Define the parameters to use in grid search\n",
    "    param_grid = {'criterion': ['gini', 'entropy'],\n",
    "                    'max_depth': maxDepth,\n",
    "                    'min_samples_split': minSamplesNode,\n",
    "                    'min_samples_leaf': minSamplesLeaf,\n",
    "                    'n_estimators': estimators,\n",
    "                    'max_features': maxFeatures,\n",
    "                    'verbose': verbose,\n",
    "                    'warm_start': warmStart}\n",
    "\n",
    "    # Define the model to be used in grid search\n",
    "    gs = GridSearchCV(estimator=RandomForestClassifier(random_state=0),\n",
    "                      param_grid=param_grid,\n",
    "                      scoring='accuracy',\n",
    "                      cv=kFold, n_jobs=-1)\n",
    "    \n",
    "    gs = gs.fit(X_train, y_train)\n",
    "\n",
    "    rlf = gs.best_estimator_\n",
    "    rlf.fit(X_train, y_train)\n",
    "\n",
    "    return rlf\n",
    "\n",
    "rlf = grid_search_RF(X_train, X_test, y_train, y_test, y)\n",
    "rlf_std = grid_search_RF(X_train_std, X_test_std, y_train, y_test, y)\n",
    "\n",
    "rlf.fit(X_train, y_train)\n",
    "rlf_std.fit(X_train_std, y_train)"
   ]
  },
  {
   "cell_type": "markdown",
   "metadata": {},
   "source": [
    "#### Performance metrics"
   ]
  },
  {
   "cell_type": "code",
   "execution_count": null,
   "metadata": {},
   "outputs": [],
   "source": [
    "# Store the trainscore, testscore and prediction for later use\n",
    "RF_trainscore_grid = rlf.score(X_train, y_train)\n",
    "RF_score_grid = rlf.score(X_test, y_test)\n",
    "RF_pred_grid = rlf.predict(X_test)\n",
    "\n",
    "# Print performance metrics\n",
    "Output(RF_trainscore_grid, RF_score_grid, RF_pred_grid)"
   ]
  },
  {
   "cell_type": "markdown",
   "metadata": {},
   "source": [
    "#### ROC Curve"
   ]
  },
  {
   "cell_type": "code",
   "execution_count": null,
   "metadata": {},
   "outputs": [],
   "source": [
    "# Plot ROC curve\n",
    "RF_proba_grid = rlf.predict_proba(X_test)\n",
    "ROC_Curve('Random Forest', y_test, RF_pred_grid, RF_proba_grid)"
   ]
  },
  {
   "cell_type": "markdown",
   "metadata": {},
   "source": [
    "# SVM"
   ]
  },
  {
   "cell_type": "markdown",
   "metadata": {},
   "source": [
    "## SVM linear\n",
    "Creating a svm linear object, this object presents a linear SVM with C = 0."
   ]
  },
  {
   "cell_type": "code",
   "execution_count": null,
   "metadata": {},
   "outputs": [],
   "source": [
    "from sklearn.svm import SVC \n",
    "\n",
    "\n",
    "X_train, X_test, y_train, y_test = train_test_split(X, y, test_size=0.2, random_state=0)\n",
    "sc = StandardScaler()\n",
    "X_train_std = sc.fit_transform(X_train)\n",
    "X_test_std = sc.transform(X_test)\n",
    "\n",
    "svm_linear = SVC(kernel='linear', C=1)\n",
    "svm_linear"
   ]
  },
  {
   "cell_type": "markdown",
   "metadata": {},
   "source": [
    "Now we apply the linear svm object to our data and create a confusion matrix."
   ]
  },
  {
   "cell_type": "code",
   "execution_count": null,
   "metadata": {},
   "outputs": [],
   "source": [
    "svm_linear.fit(X_train_std, y_train)\n",
    "\n",
    "SVM_trainscore_linear = svm_linear.score(X_train_std, y_train)\n",
    "SVM_score_linear = svm_linear.score(X_test_std, y_test)\n",
    "SVM_pred_linear = svm_linear.predict(X_test_std)\n",
    "\n",
    "Output(SVM_trainscore_linear, SVM_score_linear, SVM_pred_linear)"
   ]
  },
  {
   "cell_type": "markdown",
   "metadata": {},
   "source": [
    "## SVM poly\n",
    "\n",
    "We wanted to know if there will be some significant differences using the three non-linear Kernel functions, as you can see below.\n",
    "\n",
    "Creation of a svm poly object with random state of 1."
   ]
  },
  {
   "cell_type": "code",
   "execution_count": null,
   "metadata": {},
   "outputs": [],
   "source": [
    "svm_poly = SVC(kernel='poly', random_state=1)\n",
    "svm_poly"
   ]
  },
  {
   "cell_type": "markdown",
   "metadata": {},
   "source": [
    "Now we apply the poly svm object to our data and create a confusion matrix.\n"
   ]
  },
  {
   "cell_type": "code",
   "execution_count": null,
   "metadata": {},
   "outputs": [],
   "source": [
    "svm_poly.fit(X_train_std, y_train)\n",
    "\n",
    "SVM_trainscore_poly = svm_poly.score(X_train_std, y_train)\n",
    "SVM_score_poly = svm_poly.score(X_test_std, y_test)\n",
    "SVM_pred_poly = svm_poly.predict(X_test_std)\n",
    "\n",
    "Output(SVM_trainscore_poly, SVM_score_poly, SVM_pred_poly)"
   ]
  },
  {
   "cell_type": "markdown",
   "metadata": {},
   "source": [
    "## SVM sigmoid\n",
    "\n",
    "Here we create a svm object with non-linar Kernel function sigmoid with random state of 1."
   ]
  },
  {
   "cell_type": "code",
   "execution_count": null,
   "metadata": {},
   "outputs": [],
   "source": [
    "svm_sigmoid = SVC(kernel='sigmoid', random_state=1)\n",
    "svm_sigmoid"
   ]
  },
  {
   "cell_type": "markdown",
   "metadata": {},
   "source": [
    "Here again, we apply the svm sigmoid object to our data and create as well a confusion matrix. "
   ]
  },
  {
   "cell_type": "code",
   "execution_count": null,
   "metadata": {},
   "outputs": [],
   "source": [
    "svm_sigmoid.fit(X_train_std, y_train)\n",
    "\n",
    "SVM_trainscore_sigmoid = svm_sigmoid.score(X_train_std, y_train)\n",
    "SVM_score_sigmoid = svm_sigmoid.score(X_test_std, y_test)\n",
    "SVM_pred_sigmoid = svm_sigmoid.predict(X_test_std)\n",
    "\n",
    "Output(SVM_trainscore_sigmoid, SVM_score_sigmoid, SVM_pred_sigmoid)"
   ]
  },
  {
   "cell_type": "markdown",
   "metadata": {},
   "source": [
    "## SVM rbf\n",
    "\n",
    "Last but not least the implementation of a svm object with the Kernel function rbf."
   ]
  },
  {
   "cell_type": "code",
   "execution_count": null,
   "metadata": {},
   "outputs": [],
   "source": [
    "svm_rbf = SVC(kernel='rbf', random_state=1)\n",
    "svm_rbf"
   ]
  },
  {
   "cell_type": "markdown",
   "metadata": {},
   "source": [
    "As last time, we apply the new created svm to our data and create a confusion matrix."
   ]
  },
  {
   "cell_type": "code",
   "execution_count": null,
   "metadata": {},
   "outputs": [],
   "source": [
    "svm_rbf.fit(X_train_std, y_train)\n",
    "\n",
    "SVM_trainscore_rbf = svm_rbf.score(X_train_std, y_train)\n",
    "SVM_score_rbf = svm_rbf.score(X_test_std, y_test)\n",
    "SVM_pred_rbf = svm_rbf.predict(X_test_std)\n",
    "\n",
    "Output(SVM_trainscore_rbf, SVM_score_rbf, SVM_pred_rbf)"
   ]
  },
  {
   "cell_type": "markdown",
   "metadata": {},
   "source": [
    "As you can see through the results, the linear svm object gives us the best result, compared with the non-linear Kernel functions."
   ]
  },
  {
   "cell_type": "markdown",
   "metadata": {},
   "source": [
    "## SVM poly, balanced\n",
    "Because of possible class imbalance, we add the class weight element in our svm creation function and insert the value \"balanced“. We apply this to all non-linear Kernel functions.\n",
    "\n",
    "Creation of a svm poly object with class weight = balanced."
   ]
  },
  {
   "cell_type": "code",
   "execution_count": null,
   "metadata": {},
   "outputs": [],
   "source": [
    "svm_poly = SVC(kernel='poly', random_state=1, class_weight='balanced')\n",
    "svm_poly.fit(X_train_std, y_train)\n",
    "\n",
    "y_pred = svm_poly.predict(X_test_std)\n",
    "print(metrics.classification_report(y_test, y_pred))\n",
    "print(metrics.confusion_matrix(y_test, y_pred))\n",
    "print(\"Test score: {:.2f}\".format(svm_poly.score(X_test_std, y_test)))"
   ]
  },
  {
   "cell_type": "markdown",
   "metadata": {},
   "source": [
    "As you can see, our Test Score decreases from 56.68% to 53%."
   ]
  },
  {
   "cell_type": "markdown",
   "metadata": {},
   "source": [
    "## SVM sigmoid, balanced\n",
    "Creation of a svm sigmoid object with class weight = balanced."
   ]
  },
  {
   "cell_type": "code",
   "execution_count": null,
   "metadata": {},
   "outputs": [],
   "source": [
    "svm_sigmoid = SVC(kernel='sigmoid', random_state=1, class_weight='balanced')\n",
    "svm_sigmoid.fit(X_train_std, y_train)\n",
    "\n",
    "y_pred = svm_sigmoid.predict(X_test_std)\n",
    "print(metrics.classification_report(y_test, y_pred))\n",
    "print(metrics.confusion_matrix(y_test, y_pred))\n",
    "print(\"Test score: {:.2f}\".format(svm_sigmoid.score(X_test_std, y_test)))"
   ]
  },
  {
   "cell_type": "markdown",
   "metadata": {},
   "source": [
    "Here as well, the Test Score deacreases from 55.18% to 54%. Because of  deacreasing Test Scores, we stopped testing the last non-linear Kernel function."
   ]
  },
  {
   "cell_type": "markdown",
   "metadata": {},
   "source": [
    "## SVM applying Pipelines\n",
    "\n",
    "We import pipline through sklearn and use grid search to discover the best combination of values for C and polynomial degrees."
   ]
  },
  {
   "cell_type": "code",
   "execution_count": null,
   "metadata": {},
   "outputs": [],
   "source": [
    "from sklearn.pipeline import Pipeline\n",
    "\n",
    "pipe = Pipeline([('scaler', StandardScaler()),('svm_poly', SVC(kernel='poly', random_state=0))])"
   ]
  },
  {
   "cell_type": "code",
   "execution_count": null,
   "metadata": {},
   "outputs": [],
   "source": [
    "param_grid = {'svm_poly__C': [0.1, 1, 10, 100], 'svm_poly__degree': [1, 2, 3, 4, 5]}"
   ]
  },
  {
   "cell_type": "code",
   "execution_count": null,
   "metadata": {},
   "outputs": [],
   "source": [
    "grid = GridSearchCV(pipe, param_grid=param_grid, cv=5, n_jobs= -1)\n",
    "grid.fit(X_train_std, y_train)\n",
    "\n",
    "PGS_score = grid.score(X_test_std, y_test)\n",
    "PGS_params = grid.best_params_\n",
    "\n",
    "print('Best CV accuracy: {: .4f}'.format(grid.best_score_))\n",
    "print('Test score: {: .4f}'.format(PGS_score))\n",
    "print('Best parameters: {}'.format(PGS_params))"
   ]
  },
  {
   "cell_type": "markdown",
   "metadata": {},
   "source": [
    "As you can see the best value for C is 10 and not very suprising, the best polynomial degree is one, which means nothing else than a linear function. As you can see above, the best result, comparing all the four Kernel functions, we had with the linear svm."
   ]
  },
  {
   "cell_type": "markdown",
   "metadata": {},
   "source": [
    "# Feature Importance\n",
    "Now we would like to know, which feature of our dataset explains our model in the best way. We extreact the feature labels and create a Random Forest object, fit the data and extract the feature importance attributes."
   ]
  },
  {
   "cell_type": "code",
   "execution_count": null,
   "metadata": {},
   "outputs": [],
   "source": [
    "feat_labels = df.columns [:]\n",
    "forest = RandomForestClassifier(random_state =1)\n",
    "forest.fit( X_train_std , y_train )\n",
    "importances = forest.feature_importances_"
   ]
  },
  {
   "cell_type": "markdown",
   "metadata": {},
   "source": [
    "We sort our output by relative importance and print the top features."
   ]
  },
  {
   "cell_type": "code",
   "execution_count": null,
   "metadata": {},
   "outputs": [],
   "source": [
    "indices = np.argsort(importances)[::-1]\n",
    "n = 20\n",
    "print(df.shape)\n",
    "for i in range (n):\n",
    "    print('{0:2d}) {1:7s} {2:6.4f}'.format (i + 1, feat_labels[indices[i]], importances[indices[i]]))\n",
    "\n",
    "# Get cumsum of the n most important features\n",
    "feat_imp = np.sort(importances)[::-1]\n",
    "sum_feat_imp = np.cumsum( feat_imp )[:n]"
   ]
  },
  {
   "cell_type": "markdown",
   "metadata": {},
   "source": [
    "To have a better overview we plot the results above"
   ]
  },
  {
   "cell_type": "code",
   "execution_count": null,
   "metadata": {},
   "outputs": [],
   "source": [
    "# Plot Feature Importance ( both cumul ., individual )\n",
    "plt.figure(figsize = (12, 8))\n",
    "plt.bar(range(n), importances[indices[:n]], align = 'center')\n",
    "plt.xticks(range(n), feat_labels[indices[:n]], rotation = 90)\n",
    "plt.xlim([-1, n])\n",
    "plt.xlabel('Feature')\n",
    "plt.ylabel('Rel. Feature Importance')\n",
    "plt.step(range(n), sum_feat_imp, where = 'mid', label = 'Cumulative importance')\n",
    "plt.tight_layout();"
   ]
  },
  {
   "cell_type": "markdown",
   "metadata": {},
   "source": [
    "It is nice to see, that ten of the best features were added additionally, so we did a good selection."
   ]
  },
  {
   "cell_type": "markdown",
   "metadata": {},
   "source": [
    "# Principal Component Analysis\n"
   ]
  },
  {
   "cell_type": "code",
   "execution_count": null,
   "metadata": {},
   "outputs": [],
   "source": [
    "from sklearn.feature_selection import SelectFromModel\n",
    "\n",
    "pipe = Pipeline([('feature_selection', SelectFromModel(RandomForestClassifier(), threshold='median')),('scaler', StandardScaler()),('classification', SVC())])\n",
    "pipe.fit(X_train_std, y_train).score(X_test_std, y_test)"
   ]
  },
  {
   "cell_type": "code",
   "execution_count": null,
   "metadata": {},
   "outputs": [],
   "source": [
    "from sklearn.decomposition import PCA\n",
    "\n",
    "q = 10\n",
    "\n",
    "pca = PCA(n_components=q)\n",
    "pca.fit(X_train_std)\n",
    "pca\n",
    "\n",
    "pca = PCA().fit(X_train_std)\n",
    "\n",
    "q = X_train_std.shape[1]\n",
    "\n",
    "expl_var = pca.explained_variance_ratio_\n",
    "sum_expl_var = np.cumsum(expl_var)[:q]"
   ]
  },
  {
   "cell_type": "code",
   "execution_count": null,
   "metadata": {},
   "outputs": [],
   "source": [
    "plt.figure(figsize=(12,6))\n",
    "plt.bar(range(1, q+1), expl_var, align='center')\n",
    "plt.xticks(range(1, q+1, 5))\n",
    "plt.xlim([0, q+1])\n",
    "plt.xlabel('Principal Components')\n",
    "plt.ylabel('Explained Variance Ratio')\n",
    "plt.step(range(1, 1+q), sum_expl_var, where='mid')\n",
    "plt.tight_layout();"
   ]
  },
  {
   "cell_type": "markdown",
   "metadata": {},
   "source": [
    "# Results\n",
    "As a little summary, we list all our resutls from the different models and see, that the best approximation we get by using decsion trees."
   ]
  },
  {
   "cell_type": "code",
   "execution_count": null,
   "metadata": {},
   "outputs": [],
   "source": [
    "print(15*'-', 'Test Score Logistic Regression', 15*'-', '\\n')\n",
    "print('Test accuracy: {:.4f}\\n'.format(LR_score))\n",
    "\n",
    "print(15*'-', 'Test Score QDA', 15*'-', '\\n')\n",
    "print('Test accuracy: {:.4f}\\n'.format(QDA_score))\n",
    "\n",
    "print(15*'-', 'Test Score Decision Tree', 15*'-', '\\n')\n",
    "print('Test accuracy: {:.4f}\\n'.format(CLF_score))\n",
    "\n",
    "print(15*'-', 'Test Score Random Forest', 15*'-', '\\n')\n",
    "print('Test accuracy: {:.4f}\\n'.format(RF_score_grid))\n",
    "\n",
    "print(15*'-', 'Test Score SVM linear', 15*'-', '\\n')\n",
    "print('Test accuracy: {:.4f}\\n'.format(SVM_score_linear))\n",
    "\n",
    "print(15*'-', 'Test Score SVM poly', 15*'-', '\\n')\n",
    "print('Test accuracy: {:.4f}\\n'.format(SVM_score_poly))\n",
    "\n",
    "print(15*'-', 'Test Score SVM sigmoid', 15*'-', '\\n')\n",
    "print('Test accuracy: {:.4f}\\n'.format(SVM_score_sigmoid))\n",
    "\n",
    "print(15*'-', 'Test Score SVM rbf', 15*'-', '\\n')\n",
    "print('Test accuracy: {:.4f}\\n'.format(SVM_score_rbf))\n",
    "\n",
    "print(15*'-', 'Test Score poly with grid search', 15*'-', '\\n')\n",
    "print('Best parameters: {}'.format(PGS_params))\n",
    "print('Test accuracy: {:.4f}'.format(PGS_score))"
   ]
  }
 ],
 "metadata": {
  "kernelspec": {
   "display_name": "Python 3",
   "language": "python",
   "name": "python3"
  },
  "language_info": {
   "codemirror_mode": {
    "name": "ipython",
    "version": 3
   },
   "file_extension": ".py",
   "mimetype": "text/x-python",
   "name": "python",
   "nbconvert_exporter": "python",
   "pygments_lexer": "ipython3",
   "version": "3.6.5"
  }
 },
 "nbformat": 4,
 "nbformat_minor": 2
}
